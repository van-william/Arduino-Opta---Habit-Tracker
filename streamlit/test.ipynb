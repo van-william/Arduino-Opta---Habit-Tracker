{
 "cells": [
  {
   "cell_type": "code",
   "execution_count": 1,
   "metadata": {},
   "outputs": [
    {
     "name": "stderr",
     "output_type": "stream",
     "text": [
      "/Users/williamvanbuskirk/anaconda3/lib/python3.10/site-packages/pandas/core/arrays/masked.py:60: UserWarning: Pandas requires version '1.3.6' or newer of 'bottleneck' (version '1.3.5' currently installed).\n",
      "  from pandas.core import (\n"
     ]
    }
   ],
   "source": [
    "import streamlit as st\n",
    "import pandas as pd\n",
    "import plotly.express as px\n",
    "import os, time\n",
    "from influxdb_client_3 import InfluxDBClient3, Point\n",
    "from openai import ChatCompletion\n",
    "import os\n"
   ]
  },
  {
   "cell_type": "code",
   "execution_count": 19,
   "metadata": {},
   "outputs": [],
   "source": [
    "# env variables\n",
    "INFLUXDB_URL = os.getenv('INFLUXDB_URL')\n",
    "INFLUXDB_BUCKET = os.getenv('INFLUXDB_BUCKET')\n",
    "INFLUXDB_ORG = os.getenv('INFLUXDB_ORG')\n",
    "INFLUXDB_TOKEN = os.getenv('INFLUXDB_TOKEN')\n",
    "\n",
    "# Function to query historical data from InfluxDB\n",
    "def query_historical_data():\n",
    "    query = \"\"\"\n",
    "    SELECT status, time\n",
    "    FROM 'habit_tracker'\n",
    "    WHERE time > now() - interval '7 days'\n",
    "    \"\"\"\n",
    "\n",
    "    with InfluxDBClient3(host=INFLUXDB_URL, token=INFLUXDB_TOKEN, org=INFLUXDB_ORG) as client:\n",
    "        # Execute the query\n",
    "        table = client.query(query=query, database=\"personal_projects\", language='sql')\n",
    "        # Convert to dataframe\n",
    "        df = table.to_pandas().sort_values(by=\"time\")\n",
    "        return df\n",
    "\n",
    "# Function to query the current status\n",
    "def query_current_status():\n",
    "    query = f\"\"\"\n",
    "    SELECT status\n",
    "    FROM 'habit_tracker'\n",
    "    ORDER BY time DESC\n",
    "    LIMIT 1\n",
    "    \"\"\"\n",
    "    with InfluxDBClient3(host=INFLUXDB_URL, token=INFLUXDB_TOKEN, org=INFLUXDB_ORG) as client:\n",
    "        table = client.query(query=query, database=\"personal_projects\", language='sql')\n",
    "        df = table.to_pandas()\n",
    "        return df\n",
    "\n"
   ]
  },
  {
   "cell_type": "code",
   "execution_count": 20,
   "metadata": {},
   "outputs": [
    {
     "data": {
      "text/html": [
       "<div>\n",
       "<style scoped>\n",
       "    .dataframe tbody tr th:only-of-type {\n",
       "        vertical-align: middle;\n",
       "    }\n",
       "\n",
       "    .dataframe tbody tr th {\n",
       "        vertical-align: top;\n",
       "    }\n",
       "\n",
       "    .dataframe thead th {\n",
       "        text-align: right;\n",
       "    }\n",
       "</style>\n",
       "<table border=\"1\" class=\"dataframe\">\n",
       "  <thead>\n",
       "    <tr style=\"text-align: right;\">\n",
       "      <th></th>\n",
       "      <th>status</th>\n",
       "      <th>time</th>\n",
       "    </tr>\n",
       "  </thead>\n",
       "  <tbody>\n",
       "    <tr>\n",
       "      <th>390</th>\n",
       "      <td>Time with God</td>\n",
       "      <td>2025-01-14 22:29:18.997</td>\n",
       "    </tr>\n",
       "    <tr>\n",
       "      <th>391</th>\n",
       "      <td>Time with Family</td>\n",
       "      <td>2025-01-14 22:29:19.024</td>\n",
       "    </tr>\n",
       "    <tr>\n",
       "      <th>392</th>\n",
       "      <td>Sleeping</td>\n",
       "      <td>2025-01-14 22:29:19.038</td>\n",
       "    </tr>\n",
       "    <tr>\n",
       "      <th>393</th>\n",
       "      <td>Working</td>\n",
       "      <td>2025-01-14 22:29:19.053</td>\n",
       "    </tr>\n",
       "    <tr>\n",
       "      <th>394</th>\n",
       "      <td>Learning</td>\n",
       "      <td>2025-01-14 22:29:19.066</td>\n",
       "    </tr>\n",
       "    <tr>\n",
       "      <th>...</th>\n",
       "      <td>...</td>\n",
       "      <td>...</td>\n",
       "    </tr>\n",
       "    <tr>\n",
       "      <th>388</th>\n",
       "      <td>Time with God</td>\n",
       "      <td>2025-01-20 21:42:11.374</td>\n",
       "    </tr>\n",
       "    <tr>\n",
       "      <th>389</th>\n",
       "      <td>Time with God</td>\n",
       "      <td>2025-01-20 21:42:21.368</td>\n",
       "    </tr>\n",
       "    <tr>\n",
       "      <th>0</th>\n",
       "      <td>Time with God</td>\n",
       "      <td>2025-01-20 21:42:31.367</td>\n",
       "    </tr>\n",
       "    <tr>\n",
       "      <th>1</th>\n",
       "      <td>Time with God</td>\n",
       "      <td>2025-01-20 21:42:41.367</td>\n",
       "    </tr>\n",
       "    <tr>\n",
       "      <th>2</th>\n",
       "      <td>Time with God</td>\n",
       "      <td>2025-01-20 21:42:51.454</td>\n",
       "    </tr>\n",
       "  </tbody>\n",
       "</table>\n",
       "<p>486 rows × 2 columns</p>\n",
       "</div>"
      ],
      "text/plain": [
       "               status                    time\n",
       "390     Time with God 2025-01-14 22:29:18.997\n",
       "391  Time with Family 2025-01-14 22:29:19.024\n",
       "392          Sleeping 2025-01-14 22:29:19.038\n",
       "393           Working 2025-01-14 22:29:19.053\n",
       "394          Learning 2025-01-14 22:29:19.066\n",
       "..                ...                     ...\n",
       "388     Time with God 2025-01-20 21:42:11.374\n",
       "389     Time with God 2025-01-20 21:42:21.368\n",
       "0       Time with God 2025-01-20 21:42:31.367\n",
       "1       Time with God 2025-01-20 21:42:41.367\n",
       "2       Time with God 2025-01-20 21:42:51.454\n",
       "\n",
       "[486 rows x 2 columns]"
      ]
     },
     "execution_count": 20,
     "metadata": {},
     "output_type": "execute_result"
    }
   ],
   "source": [
    "query_historical_data()"
   ]
  },
  {
   "cell_type": "code",
   "execution_count": 24,
   "metadata": {},
   "outputs": [
    {
     "data": {
      "text/plain": [
       "'Time with God'"
      ]
     },
     "execution_count": 24,
     "metadata": {},
     "output_type": "execute_result"
    }
   ],
   "source": [
    "query_current_status()['status'][0]"
   ]
  },
  {
   "cell_type": "code",
   "execution_count": null,
   "metadata": {},
   "outputs": [],
   "source": []
  }
 ],
 "metadata": {
  "kernelspec": {
   "display_name": "base",
   "language": "python",
   "name": "python3"
  },
  "language_info": {
   "codemirror_mode": {
    "name": "ipython",
    "version": 3
   },
   "file_extension": ".py",
   "mimetype": "text/x-python",
   "name": "python",
   "nbconvert_exporter": "python",
   "pygments_lexer": "ipython3",
   "version": "3.10.9"
  },
  "orig_nbformat": 4
 },
 "nbformat": 4,
 "nbformat_minor": 2
}
